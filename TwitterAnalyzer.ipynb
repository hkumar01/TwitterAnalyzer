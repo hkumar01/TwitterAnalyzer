{
  "nbformat": 4,
  "nbformat_minor": 0,
  "metadata": {
    "colab": {
      "name": "TwitterAnalyzer.ipynb",
      "provenance": [],
      "collapsed_sections": [
        "g-MdfKqK3qTg",
        "YjwCtwSfr3wl",
        "eEz5gdrz1xAf",
        "IoMMLI-f7E85",
        "YKSNw4ufkw-k"
      ],
      "authorship_tag": "ABX9TyOg6SbjFZSH0WfyhmPgyIXE",
      "include_colab_link": true
    },
    "kernelspec": {
      "name": "python3",
      "display_name": "Python 3"
    },
    "language_info": {
      "name": "python"
    }
  },
  "cells": [
    {
      "cell_type": "markdown",
      "metadata": {
        "id": "view-in-github",
        "colab_type": "text"
      },
      "source": [
        "<a href=\"https://colab.research.google.com/github/hkumar01/TwitterAnalyzer/blob/main/TwitterAnalyzer.ipynb\" target=\"_parent\"><img src=\"https://colab.research.google.com/assets/colab-badge.svg\" alt=\"Open In Colab\"/></a>"
      ]
    },
    {
      "cell_type": "markdown",
      "source": [
        "# Sentiment Analysis Model parsing tweets from Twitter"
      ],
      "metadata": {
        "id": "g-MdfKqK3qTg"
      }
    },
    {
      "cell_type": "markdown",
      "source": [
        "**Introduction**\n",
        "\n",
        "The internet has become an ocean of data. We find data everywhere in the cyberworld as all websitea are collecting some form of data whether it is email addresses, product sales, or number of views. \n",
        "\n",
        "Social Media platforms are the biggest data repositories on the web as individuals will store their personal information, post pictures, and share their views. Facebook, Instagram, and Twitter are the primary social platforms today, and in particular Twitter is different because users are only allowed 280 characters per tweet (post). As a result, tweets are excellent for Natural Language Processing and Sentimental Analysis because they are primarily text only compared to Facebook and Instagram which are focused on sharing photos. \n",
        "\n",
        "**Purpose**\n",
        "\n",
        "The purpose of this exploration is to analyze and perform Sentimental Analysis on a specific Twitter page which posts a certain type of content. The page is called Great Mind Quotes and each tweet is a quote from a well-known individual in history or from our society today. I chose the Great Mind Quotes page because they are an old exisiting page with a high follower count and posting several times a day.\n",
        "\n",
        "**Reasoning**\n",
        "\n",
        "In addition, I specifically chose to analyze and perform Sentimental Analysis on quotes because they resonate differently with all individuals. For example, individuals read quotes for various reasons such as, to be inspired, wanting to hear the harsh truth, or simply wanting friendly advice. For that reason, the quotes being posted on social pages must be applicable to a large audience. Today, often times people will set their screensaver with a quote, write a quote down on paper and place it on the wall, or even share it with friends. This made me wonder if the social media pages that post quotes are feeding positivity to people's minds. \n",
        "\n",
        "**Use**\n",
        "\n",
        "By replicating this exploration, a large number of insights can be found for a selected Twitter user. For example, the overall positivity/negativity for tweets, subjectivity/objectivity of tweets, how tweets are grouped and classified, how the text used in a tweet impacts group membership, and so much more!  "
      ],
      "metadata": {
        "id": "C3L2B3oxsXLh"
      }
    },
    {
      "cell_type": "markdown",
      "source": [
        "# Sentimental Analysis Overview"
      ],
      "metadata": {
        "id": "YjwCtwSfr3wl"
      }
    },
    {
      "cell_type": "markdown",
      "source": [
        "Sentimental Analysis is the process of identifying the emotions and tone behind a writer's message. There are two properties of Sentimental Analysis in the Python TextBlob library that help determine the emotions and tone in some given text, Polarity and Subjectivity. \n",
        "\n",
        "1.   **Polarity** is the measure of how positive or negative a phrase/sentence is. The range of possible polarity scores falls between -1 and 1. A polarity score closer to -1 means the tweet is negative and a score closer to 1 means the tweet is positive. If the polarity score is exactly zero, it is considered neutral.\n",
        "2.   **Subjectivity** is the measure of whether a phrase/sentence is more subjective (personal emotion, judgement, opinion) or objective (factual information). The subjectivity score falls on a range of 0 and 1. A subjectivity score closer to 0 means the tweet is more objective and a score closer to 1 means the tweet is more subjective.\n",
        "\n"
      ],
      "metadata": {
        "id": "XOSiQZu8r9xp"
      }
    },
    {
      "cell_type": "markdown",
      "source": [
        "# Setup, Authenticating Twitter API, Cleaning Data, Subjectivity/Polarity Scores"
      ],
      "metadata": {
        "id": "eEz5gdrz1xAf"
      }
    },
    {
      "cell_type": "code",
      "source": [
        "#import libraries \n",
        "\n",
        "import tweepy\n",
        "from textblob import TextBlob\n",
        "import pandas as pd\n",
        "import numpy as np\n",
        "import re\n",
        "from plotnine import *\n",
        "from sklearn.mixture import GaussianMixture\n",
        "from sklearn.cluster import KMeans\n",
        "from sklearn.metrics import silhouette_score"
      ],
      "metadata": {
        "id": "NVtSC_WLxP1v"
      },
      "execution_count": null,
      "outputs": []
    },
    {
      "cell_type": "code",
      "source": [
        "#Upload csv file with Twitter API credentials\n",
        "\n",
        "from google.colab import files\n",
        "upload = files.upload()"
      ],
      "metadata": {
        "colab": {
          "resources": {
            "http://localhost:8080/nbextensions/google.colab/files.js": {
              "data": "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",
              "ok": true,
              "headers": [
                [
                  "content-type",
                  "application/javascript"
                ]
              ],
              "status": 200,
              "status_text": ""
            }
          },
          "base_uri": "https://localhost:8080/",
          "height": 74
        },
        "id": "wljpshDwxteH",
        "outputId": "1a5da383-bf8f-4836-feac-af0a55b0324d"
      },
      "execution_count": null,
      "outputs": [
        {
          "output_type": "display_data",
          "data": {
            "text/html": [
              "\n",
              "     <input type=\"file\" id=\"files-0c7f5aa5-a6bb-418c-a418-db8fbc4a0499\" name=\"files[]\" multiple disabled\n",
              "        style=\"border:none\" />\n",
              "     <output id=\"result-0c7f5aa5-a6bb-418c-a418-db8fbc4a0499\">\n",
              "      Upload widget is only available when the cell has been executed in the\n",
              "      current browser session. Please rerun this cell to enable.\n",
              "      </output>\n",
              "      <script src=\"/nbextensions/google.colab/files.js\"></script> "
            ],
            "text/plain": [
              "<IPython.core.display.HTML object>"
            ]
          },
          "metadata": {}
        },
        {
          "output_type": "stream",
          "name": "stdout",
          "text": [
            "Saving login.csv to login.csv\n"
          ]
        }
      ]
    },
    {
      "cell_type": "code",
      "source": [
        "#Get credential data\n",
        " \n",
        "log = pd.read_csv('login.csv')"
      ],
      "metadata": {
        "id": "_tbgHjUT8rez"
      },
      "execution_count": null,
      "outputs": []
    },
    {
      "cell_type": "code",
      "source": [
        "#Twitter API credentials \n",
        "\n",
        "consumerKey = log['Pass'][0]\n",
        "consumerSecretKey = log['Pass'][1]\n",
        "accessToken = log['Pass'][2]\n",
        "accessTokenSecret = log['Pass'][3]"
      ],
      "metadata": {
        "id": "l5PPFTod81nD"
      },
      "execution_count": null,
      "outputs": []
    },
    {
      "cell_type": "code",
      "source": [
        "#Authenticate Object\n",
        "authenticate = tweepy.OAuthHandler(consumerKey, consumerSecretKey)\n",
        "\n",
        "#Set Access Token and secret\n",
        "authenticate.set_access_token(accessToken, accessTokenSecret)\n",
        "\n",
        "#Create API Object \n",
        "api = tweepy.API(authenticate, wait_on_rate_limit=True)"
      ],
      "metadata": {
        "id": "4ffXh3jc9QAR"
      },
      "execution_count": null,
      "outputs": []
    },
    {
      "cell_type": "code",
      "source": [
        "#Extracting tweets from selected Twitter account\n",
        "posts = api.user_timeline(screen_name=\"GreatestQuotes\", count=200, lang=\"en\", tweet_mode = \"extended\")\n",
        "\n",
        "i = 0\n",
        "\n",
        "for tweet in posts[0:5]:\n",
        "  i = i + 1\n",
        "  print(str(i) + ') '+ tweet.full_text + '\\n')\n"
      ],
      "metadata": {
        "colab": {
          "base_uri": "https://localhost:8080/"
        },
        "id": "AMNL1wiB9-Dd",
        "outputId": "94468ec5-9c8c-403f-d838-b6355c5c64e1"
      },
      "execution_count": null,
      "outputs": [
        {
          "output_type": "stream",
          "name": "stdout",
          "text": [
            "1) When it is obvious that the goals cannot be reached, don't adjust the goals, adjust the action steps. - Confucius\n",
            "\n",
            "2) The young man knows the rules but the old man knows the exceptions.\" - Oliver Wendell\n",
            "\n",
            "3) There are two ways to spread happiness; either be the light who shines it or be the mirror who reflects it. - Edith Wharton\n",
            "\n",
            "4) Success is not final, failure is not fatal: it is the courage to continue that counts. - Winston Churchill\n",
            "\n",
            "5) Magic is believing in yourself, if you can do that, you can make anything happen. - Johann Wolfgang von Goethe\n",
            "\n"
          ]
        }
      ]
    },
    {
      "cell_type": "code",
      "source": [
        "df = pd.DataFrame([tweet.full_text for tweet in posts], columns=['Tweets'])"
      ],
      "metadata": {
        "id": "JAPt5b-FrJg8"
      },
      "execution_count": null,
      "outputs": []
    },
    {
      "cell_type": "code",
      "source": [
        "#Clean tweets\n",
        "\n",
        "def cleanTweets(text):\n",
        "  text = re.sub(r'@[A-Za-z0-9]+', '', text) #remove @username\n",
        "  text = re.sub(r'#', '', text) #remove '#' symbol\n",
        "  text = re.sub(r'RT[\\s]+', '', text) #remove RT\n",
        "  text = re.sub(r'https?:\\/\\/\\S+', '', text) #remove hyperlink\n",
        "\n",
        "  return text\n",
        "\n",
        "df['Tweets'] = df['Tweets'].apply(cleanTweets)"
      ],
      "metadata": {
        "id": "T1528CTjs2zZ"
      },
      "execution_count": null,
      "outputs": []
    },
    {
      "cell_type": "markdown",
      "source": [
        "**NOTE:** Usually when working with Twitter tweets, the function above is used to remove the @ symbol along with the username, the pound # symbol, retweets, and hyperlinks. Although this function is not needed for this dataset I have still included it."
      ],
      "metadata": {
        "id": "jk9jWvNu5XUe"
      }
    },
    {
      "cell_type": "code",
      "source": [
        "#Subjectivity and Polarity\n",
        "\n",
        "def getSubjectivity(text):\n",
        "  return TextBlob(text).sentiment.subjectivity\n",
        "\n",
        "def getPolarity(text):\n",
        "  return TextBlob(text).sentiment.polarity\n",
        "\n",
        "df['Subjectivity'] = df['Tweets'].apply(getSubjectivity)\n",
        "df['Polarity'] = df['Tweets'].apply(getPolarity)"
      ],
      "metadata": {
        "id": "g9fOQIifu_Mx"
      },
      "execution_count": null,
      "outputs": []
    },
    {
      "cell_type": "code",
      "source": [
        "#Polarity Score Analysis\n",
        "\n",
        "def polarityAnalysis(score):\n",
        "  if score < 0: \n",
        "    return 'Negative'\n",
        "  elif score == 0:\n",
        "    return 'Neutral'\n",
        "  elif score > 0:\n",
        "    return 'Positive'\n",
        "\n",
        "df['P_Analysis'] = df['Polarity'].apply(polarityAnalysis)"
      ],
      "metadata": {
        "id": "5bHWFjWiNk4L"
      },
      "execution_count": null,
      "outputs": []
    },
    {
      "cell_type": "markdown",
      "source": [
        " \n",
        "\n",
        "*   If the polarity score for a tweet is **less than 0 and greater than -1**, it is a **negative** tweet. \n",
        "*   If the polarity score for a tweet is **exactly 0**, then it is a **neutral** tweet.\n",
        "\n",
        "*  If the polarity score for a tweet is **greater than 0 and less than 1**, it is a **positive** tweet.\n",
        "\n",
        "\n"
      ],
      "metadata": {
        "id": "wBMWsK5Wqidy"
      }
    },
    {
      "cell_type": "code",
      "source": [
        "#Subjectivity Score Analysis\n",
        "\n",
        "def subjectivityAnalysis(score):\n",
        "  if score < 0.50:\n",
        "    return 'Objective'\n",
        "    return 'Neutral'\n",
        "  elif score >= 0.50:\n",
        "    return 'Subjective'\n",
        "\n",
        "df['S_Analysis'] = df['Subjectivity'].apply(subjectivityAnalysis)"
      ],
      "metadata": {
        "id": "jvmqKx5cP8Ht"
      },
      "execution_count": null,
      "outputs": []
    },
    {
      "cell_type": "markdown",
      "source": [
        "*   If the subjectivity score for a tweet is **greater than 0 and less than 0.50**, it is an **objective** (factual) tweet.\n",
        "*   If the subjectivity score for a tweet is **greater than or equal to 0.50 and less than 1**, it is a **subjective** (opinion) tweet."
      ],
      "metadata": {
        "id": "zt71tCSer9R7"
      }
    },
    {
      "cell_type": "markdown",
      "source": [
        "# Visualizations and Analysis"
      ],
      "metadata": {
        "id": "IoMMLI-f7E85"
      }
    },
    {
      "cell_type": "markdown",
      "source": [
        "**Frequency Barplot for Polarity Analysis of Tweets**"
      ],
      "metadata": {
        "id": "4cBP8tiugrdy"
      }
    },
    {
      "cell_type": "code",
      "source": [
        "(ggplot(df, aes(x = 'P_Analysis', fill = 'P_Analysis')) + geom_bar()\n",
        "+ ggtitle(\"Frequency Barplot for Polarity Analysis of Tweets\") \n",
        "+ labs(x = \"Polarity Rating\", y = \"Number of Ratings\")\n",
        "+ theme_minimal()\n",
        "+ theme(panel_grid_major_x = element_blank(),\n",
        "      panel_grid_major_y = element_blank(),\n",
        "       panel_grid_minor_y = element_blank(),\n",
        "      ))"
      ],
      "metadata": {
        "colab": {
          "base_uri": "https://localhost:8080/",
          "height": 538
        },
        "id": "OMzelLlu7D1U",
        "outputId": "2c1aa6c4-d0ec-4707-c186-34c19e606287"
      },
      "execution_count": null,
      "outputs": [
        {
          "output_type": "stream",
          "name": "stderr",
          "text": [
            "/usr/local/lib/python3.7/dist-packages/plotnine/utils.py:1246: FutureWarning: is_categorical is deprecated and will be removed in a future version.  Use is_categorical_dtype instead\n",
            "  if pdtypes.is_categorical(arr):\n"
          ]
        },
        {
          "output_type": "display_data",
          "data": {
            "image/png": "[encoded data removed]",
            "text/plain": [
              "<Figure size 640x480 with 1 Axes>"
            ]
          },
          "metadata": {
            "needs_background": "light"
          }
        },
        {
          "output_type": "execute_result",
          "data": {
            "text/plain": [
              "<ggplot: (8775264367437)>"
            ]
          },
          "metadata": {},
          "execution_count": 12
        }
      ]
    },
    {
      "cell_type": "markdown",
      "source": [
        "**Visualization Analysis**"
      ],
      "metadata": {
        "id": "6uVCgFXeA7EO"
      }
    },
    {
      "cell_type": "markdown",
      "source": [
        "The frequency bar plot above represents the distribution of polarity ratings for the Twitter page Great Mind Quotes. \n",
        "\n",
        "Out of the **200** tweets that were analyzed, **89** are **positive**, **74** are **neutral**, and **37** are **negative**. This tells us that **81.5%** of the tweets being analyzed have a polarity score between **0 and 1**, inclusive, these tweets consist of neutral and positive ratings. The remaining **18.5%** of tweets in this study are classified as negative because their polarity score falls in the range of **-1 and 0**, inclusive. \n",
        "\n",
        "Overall, the tweets from Great Mind Quotes are primarily positive and neutral, and this is what we are looking for! The quotes we read on social media should feed our minds with positivity. However, not every quote from a \"Great Mind\" will be positive, which is why the large group of neutrally rated tweets are accepted in this study. "
      ],
      "metadata": {
        "id": "piwy-4T4BAa-"
      }
    },
    {
      "cell_type": "markdown",
      "source": [
        "**Frequency Barplot for Subjectivity Analysis of Tweets**"
      ],
      "metadata": {
        "id": "gidq47h6gxLM"
      }
    },
    {
      "cell_type": "code",
      "source": [
        "(ggplot(df, aes(x = 'S_Analysis', fill = 'S_Analysis')) + geom_bar()\n",
        "+ ggtitle(\"Frequency Barplot for Subjectivity Analysis of Tweets\") \n",
        "+ labs(x = \"Subjectivity Rating\", y = \"Number of Ratings\")\n",
        "+ theme_minimal()\n",
        "+ theme(panel_grid_major_x = element_blank(),\n",
        "      panel_grid_major_y = element_blank(),\n",
        "       panel_grid_minor_y = element_blank(),\n",
        "      ))"
      ],
      "metadata": {
        "colab": {
          "base_uri": "https://localhost:8080/",
          "height": 538
        },
        "id": "eSNhJwtCAzkN",
        "outputId": "1464e88b-caa3-4aa7-f455-8127a2a1deef"
      },
      "execution_count": null,
      "outputs": [
        {
          "output_type": "stream",
          "name": "stderr",
          "text": [
            "/usr/local/lib/python3.7/dist-packages/plotnine/utils.py:1246: FutureWarning: is_categorical is deprecated and will be removed in a future version.  Use is_categorical_dtype instead\n",
            "  if pdtypes.is_categorical(arr):\n"
          ]
        },
        {
          "output_type": "display_data",
          "data": {
            "image/png": "[encoded data removed]",
            "text/plain": [
              "<Figure size 640x480 with 1 Axes>"
            ]
          },
          "metadata": {
            "needs_background": "light"
          }
        },
        {
          "output_type": "execute_result",
          "data": {
            "text/plain": [
              "<ggplot: (8775264407941)>"
            ]
          },
          "metadata": {},
          "execution_count": 13
        }
      ]
    },
    {
      "cell_type": "markdown",
      "source": [
        "**Visualization Analysis**"
      ],
      "metadata": {
        "id": "Q6qSvBB2Dohj"
      }
    },
    {
      "cell_type": "markdown",
      "source": [
        "The frequency bar plot above represents the distribution of subjectivity ratings for the Twitter page Great Mind Quotes. \n",
        "\n",
        "Out of the **200** tweets that were analyzed, **117** are **objective** and **83** are **subjective**. This is a fairly even split as **58.5%** of tweets in this study possess a subjectivity score between **0 and 0.49**, inclusive. Additionally, **41.5%** of tweets in this study possess a subjectivity score between **0.50 and 1**, inclusive. \n",
        "\n",
        "All in all, the Great Mind Quotes Twitter page delivers a fair split of objective and subjective content. Famous quotes are often times generalizations that are applicable to the general population. Other times the text of a quote can be influenced by a personal belief or emotion, making the delivery sound subjective."
      ],
      "metadata": {
        "id": "joFGReFcus5w"
      }
    },
    {
      "cell_type": "markdown",
      "source": [
        "**Comparing Subjectivity and Polarity**"
      ],
      "metadata": {
        "id": "g1TfFDVsg2D9"
      }
    },
    {
      "cell_type": "code",
      "source": [
        "(ggplot(df, aes(x = 'Subjectivity', y = 'Polarity')) + geom_point()\n",
        "+ ggtitle(\"Comparing Subjectivity and Polarity\")\n",
        "+ stat_smooth(method = \"lm\")\n",
        "+ theme_minimal()\n",
        "+ theme(panel_grid_major_x = element_blank(),\n",
        "      panel_grid_major_y = element_blank(),\n",
        "       panel_grid_minor_y = element_blank(),\n",
        "      ))"
      ],
      "metadata": {
        "colab": {
          "base_uri": "https://localhost:8080/",
          "height": 503
        },
        "id": "vs3j3j7iugs0",
        "outputId": "6cf0f87d-e391-46d9-cde8-575cdc966072"
      },
      "execution_count": null,
      "outputs": [
        {
          "output_type": "display_data",
          "data": {
            "image/png": "[encoded data removed]",
            "text/plain": [
              "<Figure size 640x480 with 1 Axes>"
            ]
          },
          "metadata": {
            "needs_background": "light"
          }
        },
        {
          "output_type": "execute_result",
          "data": {
            "text/plain": [
              "<ggplot: (8775264405625)>"
            ]
          },
          "metadata": {},
          "execution_count": 14
        }
      ]
    },
    {
      "cell_type": "markdown",
      "source": [
        "**Visualization Analysis**"
      ],
      "metadata": {
        "id": "IP3x0WlzupPb"
      }
    },
    {
      "cell_type": "markdown",
      "source": [
        "The scatterplot above represents the relationship between the subjectivity ratings and polarity ratings for the last 200 tweets from the Twitter page, Great Mind Quotes.\n",
        "\n",
        "From first glance it can be noticed that there is a **positive linear relationship** between the subjectivity and polarity ratings. The strength of this relationship is **moderately strong** as the data is well spread out, however, there are still a **few outliers**. "
      ],
      "metadata": {
        "id": "hYteoD8Qurtg"
      }
    },
    {
      "cell_type": "markdown",
      "source": [
        "# Clustering Algorithms"
      ],
      "metadata": {
        "id": "YKSNw4ufkw-k"
      }
    },
    {
      "cell_type": "markdown",
      "source": [
        "*Note: Groups and Clusters will be used interchangably in the analysis.*"
      ],
      "metadata": {
        "id": "FHohUii9k7jt"
      }
    },
    {
      "cell_type": "markdown",
      "source": [
        "The two clustering algorithms that will be used to group Great Mind Quotes' last 200 tweets is K-Means and Expectation Maximization. Each algorithm is briefly introduced before examining the algorithm's model."
      ],
      "metadata": {
        "id": "7fCnp8Dk6NNt"
      }
    },
    {
      "cell_type": "markdown",
      "source": [
        "**Definitions and Backgroud Knowledge Below:**"
      ],
      "metadata": {
        "id": "3vkA9o_p60UN"
      }
    },
    {
      "cell_type": "markdown",
      "source": [
        "**Cohesion** is the measure of how **similar** members are within a group."
      ],
      "metadata": {
        "id": "IAuHHowak2Uv"
      }
    },
    {
      "cell_type": "markdown",
      "source": [
        "**Separation** is the measure of how **different** groups are from each other."
      ],
      "metadata": {
        "id": "LCNye6YwmQRo"
      }
    },
    {
      "cell_type": "markdown",
      "source": [
        "**Silhouette Score Summary**\n",
        "*   Based on two factors (Cohesion and Separation)\n",
        "*   Range of possible scores is between -1 and 1\n",
        "*   A score below 0 and closer to -1 means there is low cohesion and low separation in the groups\n",
        "*   A score above 0 and closer to 1 means there is high cohesion and high separation in the groups\n",
        "\n",
        "*   **High performing clustering models usually have high cohesion and high separation**\n",
        "\n",
        "\n",
        "\n",
        "\n",
        "\n",
        "\n",
        "\n"
      ],
      "metadata": {
        "id": "6gPr7EqCWVii"
      }
    },
    {
      "cell_type": "markdown",
      "source": [
        "# K-Means Model"
      ],
      "metadata": {
        "id": "ezK-U8yJWA_p"
      }
    },
    {
      "cell_type": "markdown",
      "source": [
        "**K-Means Algorithm Quick Summary**"
      ],
      "metadata": {
        "id": "7XayK4ltxtwV"
      }
    },
    {
      "cell_type": "markdown",
      "source": [
        "The K-Means algorithm is an iterative algorithm (recurring) which uses distance between data points to build groups (clusters). The only input K-Means requires is 'K', the number of clusters to create. In addition, the characteristics (variables) used to group the data must also be defined. "
      ],
      "metadata": {
        "id": "-fJdZAF6x2-a"
      }
    },
    {
      "cell_type": "markdown",
      "source": [
        "**First**, the algorithm begins by choosing K random points (K is the number of groups to create). The K random points can be thought of as group leaders. **Second**, surrounding data points are assigned to the nearest group leader (solely based on distance). **Third**, an average of all data points in a cluster is taken to recalculate the center of the cluster. Lastly, the second and third step are **repeated** until there is little or no change in the clusters of the model."
      ],
      "metadata": {
        "id": "dOt962DM2wKs"
      }
    },
    {
      "cell_type": "markdown",
      "source": [
        "**Silhouette Score**"
      ],
      "metadata": {
        "id": "rOFEqji0qlzB"
      }
    },
    {
      "cell_type": "code",
      "source": [
        "features = [\"Subjectivity\", \"Polarity\"]\n",
        "X2 = df[features]\n",
        "\n",
        "km = KMeans(n_clusters=3)\n",
        "km.fit(X2)\n",
        "\n",
        "membership = km.predict(X2)\n",
        "\n",
        "X2[\"cluster\"] = membership\n",
        "\n",
        "silhouette_score(X2, membership)"
      ],
      "metadata": {
        "colab": {
          "base_uri": "https://localhost:8080/"
        },
        "id": "XzSxbcZUnXkw",
        "outputId": "63a290af-c72e-432b-c912-1d782d56a8d7"
      },
      "execution_count": null,
      "outputs": [
        {
          "output_type": "stream",
          "name": "stderr",
          "text": [
            "/usr/local/lib/python3.7/dist-packages/ipykernel_launcher.py:9: SettingWithCopyWarning: \n",
            "A value is trying to be set on a copy of a slice from a DataFrame.\n",
            "Try using .loc[row_indexer,col_indexer] = value instead\n",
            "\n",
            "See the caveats in the documentation: https://pandas.pydata.org/pandas-docs/stable/user_guide/indexing.html#returning-a-view-versus-a-copy\n",
            "  if __name__ == '__main__':\n"
          ]
        },
        {
          "output_type": "execute_result",
          "data": {
            "text/plain": [
              "0.7838504204078919"
            ]
          },
          "metadata": {},
          "execution_count": 15
        }
      ]
    },
    {
      "cell_type": "markdown",
      "source": [
        "**Silhouette Score Analysis**"
      ],
      "metadata": {
        "id": "yjyLp8CDqc8P"
      }
    },
    {
      "cell_type": "markdown",
      "source": [
        "The K-Means Algorithm produced a silhouette score of 0.7839 which means the model has high cohesion and high separation in its groups. "
      ],
      "metadata": {
        "id": "f0tO8_nIqq_z"
      }
    },
    {
      "cell_type": "code",
      "source": [
        "(ggplot(X2, aes(x = 'Subjectivity', y = 'Polarity', color='cluster')) + geom_point()\n",
        "+ ggtitle(\"K-Means Model Clusters\")\n",
        "+ theme_minimal()\n",
        "+ theme(panel_grid_major_x = element_blank(),\n",
        "      panel_grid_major_y = element_blank(),\n",
        "       panel_grid_minor_y = element_blank(),\n",
        "      ))"
      ],
      "metadata": {
        "colab": {
          "base_uri": "https://localhost:8080/",
          "height": 503
        },
        "id": "ZLNc-3eqn0Rv",
        "outputId": "52574657-e9eb-4065-e0b4-aa91ed22bf76"
      },
      "execution_count": null,
      "outputs": [
        {
          "output_type": "display_data",
          "data": {
            "image/png": "[encoded data removed]",
            "text/plain": [
              "<Figure size 640x480 with 1 Axes>"
            ]
          },
          "metadata": {
            "needs_background": "light"
          }
        },
        {
          "output_type": "execute_result",
          "data": {
            "text/plain": [
              "<ggplot: (8775264403529)>"
            ]
          },
          "metadata": {},
          "execution_count": 16
        }
      ]
    },
    {
      "cell_type": "markdown",
      "source": [
        "**Visualization Analysis**"
      ],
      "metadata": {
        "id": "Rv_MLy8HrOYl"
      }
    },
    {
      "cell_type": "markdown",
      "source": [
        "The K-Means model was given an input to create **three clusters**. I chose three after trying 2, 4, and 5 as inputs for the model. When testing various input values, I first examined the silhouette score, then examined the cluster membership in the scatterplot and determined how well it explained the data. In the end, three was the most optimal input value.  "
      ],
      "metadata": {
        "id": "YD6NB1uPseUf"
      }
    },
    {
      "cell_type": "markdown",
      "source": [
        "**1.** Beginning with the **yellow** colored cluster, this group of tweets can be characterized as **objective** with **neutral polarity**. Example tweets for this cluster are as follows: \n",
        "\n",
        "1.   Give your dreams all you've got and you'll be amazed at the energy that comes out of you. - William James\n",
        "2.   You can't build a reputation on what you are going to do. - Henry Ford\n",
        "\n",
        "1.   Age is whatever you think it is. You are as old as you think you are. - Muhammad Ali\n",
        "\n",
        "The quotes in this cluster tend to lack emotion and personability. Instead, the speech delivery of these quotes is more similar to a general statement as the tone is very directive and straight to the point.\n",
        "\n",
        "Overall, the cluster has high cohesion and moderately high separation with no clear outliers. "
      ],
      "metadata": {
        "id": "3KVlWlKv-uwM"
      }
    },
    {
      "cell_type": "markdown",
      "source": [
        "**2.** Next comes the **purple** colored cluster, this group of tweets can be characterized as **subjective** with moderately **negative polarity**. Example tweets for this group are as follows: \n",
        "\n",
        "1.   Time is what we want most, but what we use worst. - William Penn\n",
        "2.   Twenty years from now you will be more disappointed by the things you didn't do than by the things you did. - Mark Twain\n",
        "\n",
        "1.   \tLife is really simple, but we insist on making it complicated. - Confucius\n",
        "\n",
        "The quotes belonging to this cluster are more opinionated and have a slightly negative tone. The delivery is still directive and is interpreted as a generalization, but these quotes are more personable because they have a touch of personal opinion. \n",
        "\n",
        "All in all, this cluster has high cohesion and moderately high separation with a handful of outliers."
      ],
      "metadata": {
        "id": "SJUuSWLeeg0-"
      }
    },
    {
      "cell_type": "markdown",
      "source": [
        "**3.** Last is the **turquoise** colored cluster, this group of tweets can be characterized as **subjective** with **positive polarity**. Example tweets for this cluster are as follows:\n",
        "\n",
        "1.   Magic is believing in yourself, if you can do that, you can make anything happen. - Johann Wolfgang von Goethe\n",
        "2.   Most of us are just about as happy as we make up our minds to be. - Abraham Lincoln\n",
        "\n",
        "1.   The greatest mistake you can make in life is to be continually fearing you will make a mistake. - Elbert Hubbard\n",
        "\n",
        "The turquoise colored cluster is made up of quotes which are opinionated but have a positive tone. The quotes contained in this cluster also have an optimistic tone - increasing positivity - that has not been seen in the other two clusters. \n",
        "\n",
        "Overall, the cluster has high cohesion high separation with a couple outliers."
      ],
      "metadata": {
        "id": "hXiTu6bKmYhz"
      }
    },
    {
      "cell_type": "markdown",
      "source": [
        "# Expectation Maximization Model"
      ],
      "metadata": {
        "id": "HDyWZ7Zuo6hY"
      }
    },
    {
      "cell_type": "markdown",
      "source": [
        "**Expectation Maximization Algorithm Quick Summary**"
      ],
      "metadata": {
        "id": "_behMqNX5BMT"
      }
    },
    {
      "cell_type": "markdown",
      "source": [
        "The Expectation Maximization (EM) algorithm has many use cases, but for this study it will be used to cluster data. EM is an iterative algorithm similar to K-Means, and also follows a similar algorithmic process when creating the model. \n",
        "\n",
        "Although K-Means and EM follow a very similar process to build their models, there are a few important differences. First, the data points in a K-Means model all have a hard assignment to their respective cluster. This means that each data point can only belong to the nearest cluster. In Expectation Maximization, each data point has a soft assignment. Basically every data point is assigned a probability of being in each possible cluster, instead of simply assigning a data point to a cluster based on distance like K-Means. Second, K-Means assumes all clusters have equal variances and are spherically shaped. EM does not assume clusters have equal variances, instead the algorithm estimates the actual variance for each cluster. This allows for clusters to be ellipsoid shape instead of being spherical.\n",
        "\n",
        "Expectation Maximization requires only one input, which is K, the number of clusters to create. **First**, the algorithm chooses K random points. **Second** is the expectation step, each data point calculates the probability of being in each cluster. **Third** is the maximization step, the probabilities of each data point are used to recalculate means and variances of each cluster. The second and third steps are **repeated** until there is little or no change in the clusters of the model."
      ],
      "metadata": {
        "id": "qI0dOlVI5GTK"
      }
    },
    {
      "cell_type": "markdown",
      "source": [
        "**Silhouette Score**"
      ],
      "metadata": {
        "id": "LGQRlQKfwv2V"
      }
    },
    {
      "cell_type": "code",
      "source": [
        "features = [\"Subjectivity\", \"Polarity\"]\n",
        "X = df[features]\n",
        "\n",
        "em = GaussianMixture(n_components=3)\n",
        "em.fit(X)\n",
        "\n",
        "membership = em.predict(X)\n",
        "\n",
        "X['cluster_em'] = membership\n",
        "\n",
        "silhouette_score(X, membership)"
      ],
      "metadata": {
        "colab": {
          "base_uri": "https://localhost:8080/"
        },
        "id": "JVG2VX6Ckh9O",
        "outputId": "39a4ff3c-e478-42fb-c2c2-b73e0d150b16"
      },
      "execution_count": null,
      "outputs": [
        {
          "output_type": "stream",
          "name": "stderr",
          "text": [
            "/usr/local/lib/python3.7/dist-packages/ipykernel_launcher.py:9: SettingWithCopyWarning: \n",
            "A value is trying to be set on a copy of a slice from a DataFrame.\n",
            "Try using .loc[row_indexer,col_indexer] = value instead\n",
            "\n",
            "See the caveats in the documentation: https://pandas.pydata.org/pandas-docs/stable/user_guide/indexing.html#returning-a-view-versus-a-copy\n",
            "  if __name__ == '__main__':\n"
          ]
        },
        {
          "output_type": "execute_result",
          "data": {
            "text/plain": [
              "0.7620761964670638"
            ]
          },
          "metadata": {},
          "execution_count": 27
        }
      ]
    },
    {
      "cell_type": "markdown",
      "source": [
        "**Silhouette Score Analysis**"
      ],
      "metadata": {
        "id": "k6GLkLUGwz-S"
      }
    },
    {
      "cell_type": "markdown",
      "source": [
        "The Expectation Maximization model produced a silhouette score of 0.7621 which means the model has high cohesion and high separation in its groups. This score is slightly lower than the silhouette score produced by the K-Means model."
      ],
      "metadata": {
        "id": "NzshaO-CsFfP"
      }
    },
    {
      "cell_type": "code",
      "source": [
        "(ggplot(X, aes(x = 'Subjectivity', y = 'Polarity', color='cluster_em')) + geom_point()\n",
        "+ ggtitle(\"Comparing Subjectivity and Polarity\")\n",
        "+ theme_minimal()\n",
        "+ theme(panel_grid_major_x = element_blank(),\n",
        "      panel_grid_major_y = element_blank(),\n",
        "       panel_grid_minor_y = element_blank(),\n",
        "      ))"
      ],
      "metadata": {
        "colab": {
          "base_uri": "https://localhost:8080/",
          "height": 503
        },
        "id": "AhjkTHLgmiZf",
        "outputId": "c7ab62fe-d50c-4e75-d5b6-5eafc965d5b0"
      },
      "execution_count": null,
      "outputs": [
        {
          "output_type": "display_data",
          "data": {
            "image/png": "[encoded data removed]",
            "text/plain": [
              "<Figure size 640x480 with 1 Axes>"
            ]
          },
          "metadata": {
            "needs_background": "light"
          }
        },
        {
          "output_type": "execute_result",
          "data": {
            "text/plain": [
              "<ggplot: (8775264450325)>"
            ]
          },
          "metadata": {},
          "execution_count": 28
        }
      ]
    },
    {
      "cell_type": "markdown",
      "source": [
        "**Visualization Analysis**"
      ],
      "metadata": {
        "id": "eix8scpFw-gr"
      }
    },
    {
      "cell_type": "markdown",
      "source": [
        "The Expectation Maximization (EM) model was given an input to create three clusters. I chose three because the K-Means model was given three as the input, and I wanted to see how the EM model would compare against the K-Means model given the same dataset and input value. "
      ],
      "metadata": {
        "id": "7vNQiSPAufqw"
      }
    },
    {
      "cell_type": "markdown",
      "source": [
        "**1.** Beginning with the **purple** cluster, since EM determines group membership based on probabilities instead of distances, this cluster is barely visible in the scatterplot above. The reason for this is because 65 out of 200 tweets have a subjectivity and polarity score of 0.0. As a result, all 65 datapoints form the purple cluster.\n",
        "\n",
        "This cluster can be characterized as **objective** with **neutral** **polarity**. Example tweets for this group are as follows:\n",
        "\n",
        "1.   Some people want it to happen, some wish it would happen, others make it happen. - Michael Jordan\n",
        "2.   What is not started today is never finished tomorrow. - Johann Wolfgang von Goethe\n",
        "\n",
        "1.   When we get too caught up in the busyness of the world we lose connection with one another and ourselves. - Jack Kornfield\n",
        "\n",
        "The quotes belonging to this cluster lack personability, as there is not a sense of personal belief or emotion. In addition, these quotes are very neutral in their tone as they are not negative or positive. \n",
        "\n",
        "All in all, this cluster has extremely high cohesion and separation with zero outliers. However, this group has no variance compared to the other groups, and that makes the purple cluster represent a very specific niche of tweets. Unfortunately, this does impact the other clusters in the EM model because they have to explain significantly more data with higher variance."
      ],
      "metadata": {
        "id": "HHk-AJmHymZB"
      }
    },
    {
      "cell_type": "markdown",
      "source": [
        "**2.** Next comes the **yellow** colored cluster, this group of tweets is a little more difficult to characterize as the **subjectivity** rating distribution is **spread across** the range of **0 to 1**. Furthermore, this cluster contains primarily **neutral** to **negative polarity** rated tweets. Example tweets for this cluster are as follows:\n",
        "\n",
        "1.   I can't believe that God put us on this earth to be ordinary. - Lou Holtz\n",
        "2.   I do not like to repeat successes; I like to go on to other things. - Walt Disney\n",
        "\n",
        "2.   If you think education is expensive, try ignorance. - Derek Bok\n",
        "\n",
        "Quotes that compose this group are more subjective because they are influenced by personal beliefs/emotions. In addition, these quotes have a negative polarity rating attached to them because of phrases such as, \"can't believe\" or \"do not like\". These phrases lower the polarity score of a quote.\n",
        "\n",
        "Overall, this cluster has moderate cohesion and moderate separation with a handful of outliers. Due to the purple cluster being extremely condensed, there is significantly greater variance in this cluster. As a result, the cluster represents a larger portion of the data which weakens the cohesion (similarity) between the members of this cluster."
      ],
      "metadata": {
        "id": "bHD3aPKT36YT"
      }
    },
    {
      "cell_type": "markdown",
      "source": [
        "**3.** Last is the **turquoise** colored cluster, these quotes can be characterized as mostly **subjective** with **positive** **polarity**. Example quotes for this group are as follows:\n",
        "\n",
        "\n",
        "1.   Now is the time. Needs are great, but your possibilities are greater. - Bill Blackman\n",
        "2.   \tI have not failed. I've just found 10,000 ways that won't work. - Thomas Edison\n",
        "\n",
        "2.   What we have learned from others becomes our own reflection. - Ralph Waldo Emerson\n",
        "\n",
        "Similar to the yellow cluster, this turquoise colored cluster is composed of primarily subjective quotes, but they also have very positive polarity. The delivery of these quotes gives the reader an optimistic feeling due to the high positivity. In addition, these quotes are subjective because most of them are not a directive statement for the common person, instead they have a personal belief/emotion attached to the quote.\n",
        "\n",
        "\n",
        "All in all, this cluster has moderate cohesion and moderate separation with a couple outliers. Also, due to the purple cluster having zero variance, this cluster inherits a greater number of quotes, which weakens the cohesion (similarity) of the group."
      ],
      "metadata": {
        "id": "Emmlxe-H0MFn"
      }
    },
    {
      "cell_type": "markdown",
      "source": [
        "# Analysis of Final Decision"
      ],
      "metadata": {
        "id": "NZhohMkf1gjJ"
      }
    },
    {
      "cell_type": "markdown",
      "source": [
        "**Conclusion**\n",
        "\n",
        "In the final analysis of this exploration I aim to determine which algorithm does a finer job at grouping the tweets from the Great Mind Quotes Twitter page. \n",
        "\n",
        "Ultimately, the **K-Means** algorithm is a **stronger option** to cluster the last 200 tweets from the Great Mind Quotes page. The three clusters created by the K-Means algorithm have equal variances and each group is easier to characterize because the groups are more compact in comparison to the EM model. This allows each K-Means cluster to represent a certain class of quotes in terms of subjectivity and polarity. \n",
        "\n",
        "Each of the three clusters created by the Expectation Maximization algorithm have different variances, and that makes characterizing EM groups difficult for this dataset. For example, 65 of 200 tweets have a subjectivity and polarity score of 0.0, and these tweets form the purple cluster. The purple cluster has extremely high cohesion/separation with zero variance and, as a result, the other two clusters in the EM model have more data to explain.\n",
        "\n",
        "The entire purpose of this exploration was to use Sentimental Analysis on Twitter quotes, and apply clustering algorithms to determine the various groups of quotes for the Twitter page Great Mind Quotes. Replicating this exploration gives an individual the ability to determine the type of content they are publishing on their Twitter page in terms of overall positivity/negativity and objectivity/subjectivity. In addition, Twitter data can be grouped by applying clustering algorithms to determine the characteristics of groups for the data."
      ],
      "metadata": {
        "id": "Fm85NSsp2b-L"
      }
    },
    {
      "cell_type": "markdown",
      "source": [
        "**Limitations** \n",
        "\n",
        "The dataset for this exploration only consisted of the last 200 tweets posted on the Great Mind Quotes page. On average about 10 to 12 quotes are posted on the page per day so the dataset represents the last 16 to 20 days of tweets from the Great Mind Quotes page. This selected Twitter page has existed since February 2009 and has over 36,200 tweets posted today (01/25/2022). It is possible that the quotes that were posted to this page in previous years are not primarily positive and objective. In previous years the page could have been posting quotes that contain a different tone and serve a different purpose than today. For this reason, a dataset with a few thousand quotes is necessary to gain a greater understanding of the overall subjectivity and polarity of the Twitter page. "
      ],
      "metadata": {
        "id": "hUzxhm757UpL"
      }
    },
    {
      "cell_type": "markdown",
      "source": [
        "**Shortcomings and Future** \n",
        "\n",
        "The main shortcoming of this exploration is not removing stop words (ex. \"a\", \"the\", \"are\", etc.) from the data. By removing stop words the subjectivtiy and polarity scores of the quotes could have been different and possibly improved.\n",
        "\n",
        "Some future additions that I would like to add to this exploration are listed below: \n",
        "\n",
        "*   Remove stop words from the data.\n",
        "*   Use the NLTK Python Library.\n",
        "\n",
        "*   Source thousands of tweets and see how the results compare to a dataset with 200 tweets."
      ],
      "metadata": {
        "id": "zlH0uh5PiFCV"
      }
    }
  ]
}